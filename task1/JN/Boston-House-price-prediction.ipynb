{
 "cells": [
  {
   "cell_type": "code",
   "execution_count": 1,
   "id": "2060df76-1148-4e15-a05c-9d0aa91c38da",
   "metadata": {},
   "outputs": [
    {
     "name": "stdout",
     "output_type": "stream",
     "text": [
      "Requirement already satisfied: pandas in c:\\users\\dell\\appdata\\local\\programs\\python\\python313\\lib\\site-packages (2.2.3)\n",
      "Requirement already satisfied: numpy in c:\\users\\dell\\appdata\\local\\programs\\python\\python313\\lib\\site-packages (2.2.3)\n",
      "Requirement already satisfied: scikit-learn in c:\\users\\dell\\appdata\\local\\programs\\python\\python313\\lib\\site-packages (1.6.1)\n",
      "Collecting matplotlib\n",
      "  Downloading matplotlib-3.10.0-cp313-cp313-win_amd64.whl.metadata (11 kB)\n",
      "Requirement already satisfied: joblib in c:\\users\\dell\\appdata\\local\\programs\\python\\python313\\lib\\site-packages (1.4.2)\n",
      "Requirement already satisfied: python-dateutil>=2.8.2 in c:\\users\\dell\\appdata\\local\\programs\\python\\python313\\lib\\site-packages (from pandas) (2.9.0.post0)\n",
      "Requirement already satisfied: pytz>=2020.1 in c:\\users\\dell\\appdata\\local\\programs\\python\\python313\\lib\\site-packages (from pandas) (2025.1)\n",
      "Requirement already satisfied: tzdata>=2022.7 in c:\\users\\dell\\appdata\\local\\programs\\python\\python313\\lib\\site-packages (from pandas) (2025.1)\n",
      "Requirement already satisfied: scipy>=1.6.0 in c:\\users\\dell\\appdata\\local\\programs\\python\\python313\\lib\\site-packages (from scikit-learn) (1.15.2)\n",
      "Requirement already satisfied: threadpoolctl>=3.1.0 in c:\\users\\dell\\appdata\\local\\programs\\python\\python313\\lib\\site-packages (from scikit-learn) (3.5.0)\n",
      "Collecting contourpy>=1.0.1 (from matplotlib)\n",
      "  Downloading contourpy-1.3.1-cp313-cp313-win_amd64.whl.metadata (5.4 kB)\n",
      "Collecting cycler>=0.10 (from matplotlib)\n",
      "  Downloading cycler-0.12.1-py3-none-any.whl.metadata (3.8 kB)\n",
      "Collecting fonttools>=4.22.0 (from matplotlib)\n",
      "  Downloading fonttools-4.56.0-cp313-cp313-win_amd64.whl.metadata (103 kB)\n",
      "Collecting kiwisolver>=1.3.1 (from matplotlib)\n",
      "  Downloading kiwisolver-1.4.8-cp313-cp313-win_amd64.whl.metadata (6.3 kB)\n",
      "Requirement already satisfied: packaging>=20.0 in c:\\users\\dell\\appdata\\local\\programs\\python\\python313\\lib\\site-packages (from matplotlib) (24.2)\n",
      "Collecting pillow>=8 (from matplotlib)\n",
      "  Downloading pillow-11.1.0-cp313-cp313-win_amd64.whl.metadata (9.3 kB)\n",
      "Collecting pyparsing>=2.3.1 (from matplotlib)\n",
      "  Downloading pyparsing-3.2.1-py3-none-any.whl.metadata (5.0 kB)\n",
      "Requirement already satisfied: six>=1.5 in c:\\users\\dell\\appdata\\local\\programs\\python\\python313\\lib\\site-packages (from python-dateutil>=2.8.2->pandas) (1.17.0)\n",
      "Downloading matplotlib-3.10.0-cp313-cp313-win_amd64.whl (8.0 MB)\n",
      "   ---------------------------------------- 0.0/8.0 MB ? eta -:--:--\n",
      "   -- ------------------------------------- 0.5/8.0 MB 2.8 MB/s eta 0:00:03\n",
      "   ----- ---------------------------------- 1.0/8.0 MB 2.7 MB/s eta 0:00:03\n",
      "   ------- -------------------------------- 1.6/8.0 MB 2.8 MB/s eta 0:00:03\n",
      "   ---------- ----------------------------- 2.1/8.0 MB 2.8 MB/s eta 0:00:03\n",
      "   --------------- ------------------------ 3.1/8.0 MB 3.1 MB/s eta 0:00:02\n",
      "   -------------------- ------------------- 4.2/8.0 MB 3.4 MB/s eta 0:00:02\n",
      "   ------------------------ --------------- 5.0/8.0 MB 3.6 MB/s eta 0:00:01\n",
      "   ---------------------------- ----------- 5.8/8.0 MB 3.6 MB/s eta 0:00:01\n",
      "   -------------------------------- ------- 6.6/8.0 MB 3.7 MB/s eta 0:00:01\n",
      "   ------------------------------------- -- 7.6/8.0 MB 3.7 MB/s eta 0:00:01\n",
      "   ---------------------------------------- 8.0/8.0 MB 3.7 MB/s eta 0:00:00\n",
      "Downloading contourpy-1.3.1-cp313-cp313-win_amd64.whl (220 kB)\n",
      "Downloading cycler-0.12.1-py3-none-any.whl (8.3 kB)\n",
      "Downloading fonttools-4.56.0-cp313-cp313-win_amd64.whl (2.2 MB)\n",
      "   ---------------------------------------- 0.0/2.2 MB ? eta -:--:--\n",
      "   ------------------- -------------------- 1.0/2.2 MB 5.3 MB/s eta 0:00:01\n",
      "   --------------------------------- ------ 1.8/2.2 MB 4.8 MB/s eta 0:00:01\n",
      "   ---------------------------------------- 2.2/2.2 MB 4.1 MB/s eta 0:00:00\n",
      "Downloading kiwisolver-1.4.8-cp313-cp313-win_amd64.whl (71 kB)\n",
      "Downloading pillow-11.1.0-cp313-cp313-win_amd64.whl (2.6 MB)\n",
      "   ---------------------------------------- 0.0/2.6 MB ? eta -:--:--\n",
      "   --------------- ------------------------ 1.0/2.6 MB 6.0 MB/s eta 0:00:01\n",
      "   --------------------------- ------------ 1.8/2.6 MB 5.0 MB/s eta 0:00:01\n",
      "   ---------------------------------------- 2.6/2.6 MB 4.2 MB/s eta 0:00:00\n",
      "Downloading pyparsing-3.2.1-py3-none-any.whl (107 kB)\n",
      "Installing collected packages: pyparsing, pillow, kiwisolver, fonttools, cycler, contourpy, matplotlib\n",
      "Successfully installed contourpy-1.3.1 cycler-0.12.1 fonttools-4.56.0 kiwisolver-1.4.8 matplotlib-3.10.0 pillow-11.1.0 pyparsing-3.2.1\n",
      "Note: you may need to restart the kernel to use updated packages.\n"
     ]
    },
    {
     "name": "stderr",
     "output_type": "stream",
     "text": [
      "\n",
      "[notice] A new release of pip is available: 24.3.1 -> 25.0.1\n",
      "[notice] To update, run: python.exe -m pip install --upgrade pip\n"
     ]
    }
   ],
   "source": [
    "pip install pandas numpy scikit-learn matplotlib joblib\n"
   ]
  },
  {
   "cell_type": "code",
   "execution_count": 19,
   "id": "c9a30a25-08f3-4b97-89a8-9b903b7af01d",
   "metadata": {},
   "outputs": [],
   "source": [
    "import pandas as pd\n",
    "import numpy as np\n",
    "import matplotlib.pyplot as plt\n",
    "from sklearn.model_selection import train_test_split\n",
    "from sklearn.preprocessing import StandardScaler\n",
    "from sklearn.linear_model import LinearRegression\n",
    "from sklearn.ensemble import RandomForestRegressor\n",
    "from sklearn.metrics import mean_absolute_error, mean_squared_error, r2_score\n",
    "import joblib\n",
    "\n",
    "# 📌Load the dataset\n",
    "file_path = \"HousingData.csv\"  \n",
    "df = pd.read_csv(r\"D:\\BLDEACET\\internship\\ShadowFox\\task1\\HousingData.csv\")\n",
    "\n",
    "#  Handle missing values by replacing them with the median\n",
    "df.fillna(df.median(), inplace=True)\n",
    "\n",
    "#  Define features (X) and target variable (y)\n",
    "X = df.drop(columns=[\"MEDV\"])  # Features (excluding house price)\n",
    "y = df[\"MEDV\"]  # Target variable (house price)\n",
    "\n",
    "#  Split data into training & testing sets (80% train, 20% test)\n",
    "X_train, X_test, y_train, y_test = train_test_split(X, y, test_size=0.2, random_state=42)\n",
    "\n",
    "#  Standardize the data (Important for Linear Regression)\n",
    "scaler = StandardScaler()\n",
    "X_train_scaled = scaler.fit_transform(X_train)\n",
    "X_test_scaled = scaler.transform(X_test)\n"
   ]
  },
  {
   "cell_type": "code",
   "execution_count": 20,
   "id": "be58d0ac-99d1-4169-b5f4-d9bdf230192d",
   "metadata": {},
   "outputs": [
    {
     "name": "stdout",
     "output_type": "stream",
     "text": [
      "🔹 Linear Regression Results:\n",
      "MAE: 3.15\n",
      "RMSE: 5.00\n",
      "R² Score: 0.66\n"
     ]
    }
   ],
   "source": [
    "#  Train a Linear Regression model\n",
    "lr_model = LinearRegression()\n",
    "lr_model.fit(X_train_scaled, y_train)\n",
    "\n",
    "#  Make predictions using Linear Regression\n",
    "y_pred_lr = lr_model.predict(X_test_scaled)\n",
    "\n",
    "# 📌Evaluate the Linear Regression model\n",
    "mae_lr = mean_absolute_error(y_test, y_pred_lr)\n",
    "rmse_lr = np.sqrt(mean_squared_error(y_test, y_pred_lr))\n",
    "r2_lr = r2_score(y_test, y_pred_lr)\n",
    "\n",
    "print(\"🔹 Linear Regression Results:\")\n",
    "print(f\"MAE: {mae_lr:.2f}\")\n",
    "print(f\"RMSE: {rmse_lr:.2f}\")\n",
    "print(f\"R² Score: {r2_lr:.2f}\")\n"
   ]
  },
  {
   "cell_type": "code",
   "execution_count": 20,
   "id": "27d282f9-7693-4024-ad88-5f7a3d674c4d",
   "metadata": {},
   "outputs": [
    {
     "name": "stdout",
     "output_type": "stream",
     "text": [
      "🔹 Linear Regression Results:\n",
      "MAE: 3.15\n",
      "RMSE: 5.00\n",
      "R² Score: 0.66\n"
     ]
    }
   ],
   "source": [
    "#  Train a Linear Regression model\n",
    "lr_model = LinearRegression()\n",
    "lr_model.fit(X_train_scaled, y_train)\n",
    "\n",
    "#  Make predictions using Linear Regression\n",
    "y_pred_lr = lr_model.predict(X_test_scaled)\n",
    "\n",
    "# 📌Evaluate the Linear Regression model\n",
    "mae_lr = mean_absolute_error(y_test, y_pred_lr)\n",
    "rmse_lr = np.sqrt(mean_squared_error(y_test, y_pred_lr))\n",
    "r2_lr = r2_score(y_test, y_pred_lr)\n",
    "\n",
    "print(\"🔹 Linear Regression Results:\")\n",
    "print(f\"MAE: {mae_lr:.2f}\")\n",
    "print(f\"RMSE: {rmse_lr:.2f}\")\n",
    "print(f\"R² Score: {r2_lr:.2f}\")\n"
   ]
  },
  {
   "cell_type": "code",
   "execution_count": 21,
   "id": "e3bc3c57-17a2-464b-bb9c-4288268fbb76",
   "metadata": {},
   "outputs": [
    {
     "name": "stdout",
     "output_type": "stream",
     "text": [
      "\n",
      "🔹 Random Forest Results:\n",
      "MAE: 2.06\n",
      "RMSE: 2.87\n",
      "R² Score: 0.89\n"
     ]
    }
   ],
   "source": [
    "#  Train a Random Forest model\n",
    "rf_model = RandomForestRegressor(n_estimators=100, random_state=42)\n",
    "rf_model.fit(X_train, y_train)\n",
    "\n",
    "#  Make predictions using Random Forest\n",
    "y_pred_rf = rf_model.predict(X_test)\n",
    "\n",
    "#  Evaluate the Random Forest model\n",
    "mae_rf = mean_absolute_error(y_test, y_pred_rf)\n",
    "rmse_rf = np.sqrt(mean_squared_error(y_test, y_pred_rf))\n",
    "r2_rf = r2_score(y_test, y_pred_rf)\n",
    "\n",
    "print(\"\\n🔹 Random Forest Results:\")\n",
    "print(f\"MAE: {mae_rf:.2f}\")\n",
    "print(f\"RMSE: {rmse_rf:.2f}\")\n",
    "print(f\"R² Score: {r2_rf:.2f}\")\n"
   ]
  },
  {
   "cell_type": "code",
   "execution_count": 22,
   "id": "eee25d6f-f032-4ade-8a58-e458393f3c15",
   "metadata": {},
   "outputs": [
    {
     "name": "stdout",
     "output_type": "stream",
     "text": [
      "\n",
      "🔹 Model Comparison:\n",
      "Linear Regression R² Score: 0.66\n",
      "Random Forest R² Score: 0.89\n",
      "\n",
      " Best Performing Model: Random Forest\n"
     ]
    }
   ],
   "source": [
    "#  Compare R² Scores of Both Models\n",
    "print(\"\\n🔹 Model Comparison:\")\n",
    "print(f\"Linear Regression R² Score: {r2_lr:.2f}\")\n",
    "print(f\"Random Forest R² Score: {r2_rf:.2f}\")\n",
    "\n",
    "#  Choose the best model\n",
    "best_model = \"Random Forest\" if r2_rf > r2_lr else \"Linear Regression\"\n",
    "print(f\"\\n Best Performing Model: {best_model}\")\n"
   ]
  },
  {
   "cell_type": "code",
   "execution_count": 23,
   "id": "c1a21b36-2a6e-49a0-975c-7a2bf3dc7751",
   "metadata": {},
   "outputs": [
    {
     "name": "stdout",
     "output_type": "stream",
     "text": [
      "\n",
      " Model saved as 'house_price_model.pkl'.\n"
     ]
    }
   ],
   "source": [
    "# 📌 Save the trained Random Forest model for future use\n",
    "joblib.dump(rf_model, \"house_price_model.pkl\")\n",
    "print(\"\\n Model saved as 'house_price_model.pkl'.\")\n",
    "\n",
    "#  To load and use the saved model later:\n",
    "# loaded_model = joblib.load(\"house_price_model.pkl\")\n",
    "# prediction = loaded_model.predict(X_test)\n"
   ]
  },
  {
   "cell_type": "code",
   "execution_count": 24,
   "id": "0f2147c8-3f4d-4efd-ac1f-902088487821",
   "metadata": {},
   "outputs": [
    {
     "name": "stdout",
     "output_type": "stream",
     "text": [
      "\n",
      " Predicted House Price: 28.35\n"
     ]
    },
    {
     "name": "stderr",
     "output_type": "stream",
     "text": [
      "C:\\Users\\Dell\\AppData\\Local\\Programs\\Python\\Python313\\Lib\\site-packages\\sklearn\\utils\\validation.py:2739: UserWarning: X does not have valid feature names, but RandomForestRegressor was fitted with feature names\n",
      "  warnings.warn(\n"
     ]
    }
   ],
   "source": [
    "#  Predict house price for new input data\n",
    "new_data = [[0.02, 18.0, 2.31, 0, 0.538, 6.575, 65.2, 4.0900, 1, 296, 15.3, 396.9, 4.98]]  # Example input\n",
    "new_pred = rf_model.predict(new_data)\n",
    "\n",
    "print(f\"\\n Predicted House Price: {new_pred[0]:.2f}\")\n"
   ]
  },
  {
   "cell_type": "code",
   "execution_count": 25,
   "id": "3a84165c-b15c-410d-b460-2d4ab6b02242",
   "metadata": {},
   "outputs": [
    {
     "data": {
      "image/png": "[encoded data removed]",
      "text/plain": [
       "<Figure size 1000x500 with 1 Axes>"
      ]
     },
     "metadata": {},
     "output_type": "display_data"
    }
   ],
   "source": [
    "# Identify the most important features in predicting house prices\n",
    "feature_importance = rf_model.feature_importances_\n",
    "feature_names = X.columns\n",
    "\n",
    "#  Plot feature importance\n",
    "plt.figure(figsize=(10, 5))\n",
    "plt.barh(feature_names, feature_importance, color='teal')\n",
    "plt.xlabel(\"Feature Importance Score\")\n",
    "plt.ylabel(\"Features\")\n",
    "plt.title(\"Feature Importance in Random Forest Model\")\n",
    "plt.show()\n"
   ]
  },
  {
   "cell_type": "code",
   "execution_count": 26,
   "id": "ca745f22-4755-46e7-a1e7-855f9501a73e",
   "metadata": {},
   "outputs": [
    {
     "name": "stdout",
     "output_type": "stream",
     "text": [
      "Best Parameters: {'max_depth': 20, 'min_samples_split': 10, 'n_estimators': 50}\n"
     ]
    }
   ],
   "source": [
    "from sklearn.model_selection import GridSearchCV\n",
    "\n",
    "# Define hyperparameter grid\n",
    "param_grid = {\n",
    "    'n_estimators': [50, 100, 200],\n",
    "    'max_depth': [None, 10, 20],\n",
    "    'min_samples_split': [2, 5, 10]\n",
    "}\n",
    "\n",
    "# Perform GridSearch\n",
    "grid_search = GridSearchCV(RandomForestRegressor(), param_grid, cv=5)\n",
    "grid_search.fit(X_train, y_train)\n",
    "\n",
    "print(f\"Best Parameters: {grid_search.best_params_}\")\n"
   ]
  },
  {
   "cell_type": "code",
   "execution_count": 27,
   "id": "da5e3915-0ad1-41c9-b726-30821bdcafcc",
   "metadata": {},
   "outputs": [
    {
     "name": "stdout",
     "output_type": "stream",
     "text": [
      " Model saved as 'house_price_model.pkl'.\n"
     ]
    }
   ],
   "source": [
    "import joblib\n",
    "joblib.dump(rf_model, \"house_price_model.pkl\")\n",
    "print(\" Model saved as 'house_price_model.pkl'.\")\n"
   ]
  },
  {
   "cell_type": "code",
   "execution_count": 18,
   "id": "6a160fc9-6e01-4d3f-a95e-5a9141258342",
   "metadata": {},
   "outputs": [
    {
     "name": "stdout",
     "output_type": "stream",
     "text": [
      "💰 Predicted House Price: 28.35\n"
     ]
    }
   ],
   "source": [
    "import joblib\n",
    "import pandas as pd\n",
    "\n",
    "#  Load the trained model\n",
    "rf_model = joblib.load(\"house_price_model.pkl\")\n",
    "\n",
    "#  Define feature names (same as in training)\n",
    "feature_names = [\"CRIM\", \"ZN\", \"INDUS\", \"CHAS\", \"NOX\", \"RM\", \"AGE\", \"DIS\", \"RAD\", \"TAX\", \"PTRATIO\", \"B\", \"LSTAT\"]\n",
    "\n",
    "#  New house data for prediction\n",
    "new_data = [[0.02, 18.0, 2.31, 0, 0.538, 6.575, 65.2, 4.0900, 1, 296, 15.3, 396.9, 4.98]]\n",
    "\n",
    "#  Convert to DataFrame with feature names\n",
    "new_data_df = pd.DataFrame(new_data, columns=feature_names)\n",
    "\n",
    "#  Predict house price\n",
    "predicted_price = rf_model.predict(new_data_df)\n",
    "print(f\"💰 Predicted House Price: {predicted_price[0]:.2f}\")\n"
   ]
  },
  {
   "cell_type": "code",
   "execution_count": null,
   "id": "edba39dc-2c37-47fe-8db2-df5840673c74",
   "metadata": {},
   "outputs": [],
   "source": []
  }
 ],
 "metadata": {
  "kernelspec": {
   "display_name": "Python 3 (ipykernel)",
   "language": "python",
   "name": "python3"
  },
  "language_info": {
   "codemirror_mode": {
    "name": "ipython",
    "version": 3
   },
   "file_extension": ".py",
   "mimetype": "text/x-python",
   "name": "python",
   "nbconvert_exporter": "python",
   "pygments_lexer": "ipython3",
   "version": "3.13.2"
  }
 },
 "nbformat": 4,
 "nbformat_minor": 5
}
